{
  "nbformat": 4,
  "nbformat_minor": 0,
  "metadata": {
    "colab": {
      "name": "Copy of Covid (new cases).ipynb",
      "provenance": [],
      "collapsed_sections": [],
      "authorship_tag": "ABX9TyPO+v9omRgyZU2qNdPcf88h",
      "include_colab_link": true
    },
    "kernelspec": {
      "display_name": "Python 3",
      "name": "python3"
    },
    "language_info": {
      "name": "python"
    }
  },
  "cells": [
    {
      "cell_type": "markdown",
      "metadata": {
        "id": "view-in-github",
        "colab_type": "text"
      },
      "source": [
        "<a href=\"https://colab.research.google.com/github/sweety001/Leveraging-Artificial-Intelligence-models-for-analyzing-the-effect-of-Covid-vaccination/blob/main/Covid_(new_cases).ipynb\" target=\"_parent\"><img src=\"https://colab.research.google.com/assets/colab-badge.svg\" alt=\"Open In Colab\"/></a>"
      ]
    },
    {
      "cell_type": "markdown",
      "metadata": {
        "id": "dNAKpLOQkc_w"
      },
      "source": [
        "\n",
        "# India Covid Second Wave New Cases 2\n",
        "Dependent variable: new_cases_perthousand\n",
        "\n",
        "Independent variables: people_vaccinated_per_hundred, people_fully_vaccinated_per_hundred, stringency_index, new_tests_perthousand"
      ]
    },
    {
      "cell_type": "code",
      "metadata": {
        "id": "WR3BCe6MY-Hv"
      },
      "source": [
        "import pandas as pd\n",
        "import numpy as np\n",
        "import matplotlib.pyplot as plt\n",
        "%matplotlib inline"
      ],
      "execution_count": 27,
      "outputs": []
    },
    {
      "cell_type": "code",
      "metadata": {
        "colab": {
          "base_uri": "https://localhost:8080/"
        },
        "id": "JAFUkEHGYbIP",
        "outputId": "65c00cb5-68f0-4ba0-c12e-f4d47b2dcc2e"
      },
      "source": [
        "from google.colab import drive \n",
        "drive.mount('/content/drive')"
      ],
      "execution_count": 28,
      "outputs": [
        {
          "output_type": "stream",
          "text": [
            "Drive already mounted at /content/drive; to attempt to forcibly remount, call drive.mount(\"/content/drive\", force_remount=True).\n"
          ],
          "name": "stdout"
        }
      ]
    },
    {
      "cell_type": "code",
      "metadata": {
        "colab": {
          "base_uri": "https://localhost:8080/",
          "height": 442
        },
        "id": "0naYiB8Zq80G",
        "outputId": "3a571817-0869-4d6e-c10a-9ea2c95ed7f7"
      },
      "source": [
        "DataCovid = pd.read_csv(\"/content/drive/MyDrive/DataSet/copy-owid-covid-data.csv\")\n",
        "DataCovid.head()"
      ],
      "execution_count": 29,
      "outputs": [
        {
          "output_type": "stream",
          "text": [
            "/usr/local/lib/python3.7/dist-packages/IPython/core/interactiveshell.py:2718: DtypeWarning: Columns (0,1,2,3,33) have mixed types.Specify dtype option on import or set low_memory=False.\n",
            "  interactivity=interactivity, compiler=compiler, result=result)\n"
          ],
          "name": "stderr"
        },
        {
          "output_type": "execute_result",
          "data": {
            "text/html": [
              "<div>\n",
              "<style scoped>\n",
              "    .dataframe tbody tr th:only-of-type {\n",
              "        vertical-align: middle;\n",
              "    }\n",
              "\n",
              "    .dataframe tbody tr th {\n",
              "        vertical-align: top;\n",
              "    }\n",
              "\n",
              "    .dataframe thead th {\n",
              "        text-align: right;\n",
              "    }\n",
              "</style>\n",
              "<table border=\"1\" class=\"dataframe\">\n",
              "  <thead>\n",
              "    <tr style=\"text-align: right;\">\n",
              "      <th></th>\n",
              "      <th>iso_code</th>\n",
              "      <th>continent</th>\n",
              "      <th>location</th>\n",
              "      <th>date</th>\n",
              "      <th>total_cases</th>\n",
              "      <th>new_cases</th>\n",
              "      <th>new_cases_smoothed</th>\n",
              "      <th>total_deaths</th>\n",
              "      <th>new_deaths</th>\n",
              "      <th>new_deaths_smoothed</th>\n",
              "      <th>total_cases_per_million</th>\n",
              "      <th>new_cases_per_million</th>\n",
              "      <th>new_cases_smoothed_per_million</th>\n",
              "      <th>total_deaths_per_million</th>\n",
              "      <th>new_deaths_per_million</th>\n",
              "      <th>new_deaths_smoothed_per_million</th>\n",
              "      <th>reproduction_rate</th>\n",
              "      <th>icu_patients</th>\n",
              "      <th>icu_patients_per_million</th>\n",
              "      <th>hosp_patients</th>\n",
              "      <th>hosp_patients_per_million</th>\n",
              "      <th>weekly_icu_admissions</th>\n",
              "      <th>weekly_icu_admissions_per_million</th>\n",
              "      <th>weekly_hosp_admissions</th>\n",
              "      <th>weekly_hosp_admissions_per_million</th>\n",
              "      <th>new_tests</th>\n",
              "      <th>total_tests</th>\n",
              "      <th>total_tests_per_thousand</th>\n",
              "      <th>new_tests_per_thousand</th>\n",
              "      <th>new_tests_smoothed</th>\n",
              "      <th>new_tests_smoothed_per_thousand</th>\n",
              "      <th>positive_rate</th>\n",
              "      <th>tests_per_case</th>\n",
              "      <th>tests_units</th>\n",
              "      <th>total_vaccinations</th>\n",
              "      <th>people_vaccinated</th>\n",
              "      <th>people_fully_vaccinated</th>\n",
              "      <th>new_vaccinations</th>\n",
              "      <th>new_vaccinations_smoothed</th>\n",
              "      <th>total_vaccinations_per_hundred</th>\n",
              "      <th>people_vaccinated_per_hundred</th>\n",
              "      <th>people_fully_vaccinated_per_hundred</th>\n",
              "      <th>new_vaccinations_smoothed_per_million</th>\n",
              "      <th>stringency_index</th>\n",
              "      <th>population</th>\n",
              "      <th>population_density</th>\n",
              "      <th>median_age</th>\n",
              "      <th>aged_65_older</th>\n",
              "      <th>aged_70_older</th>\n",
              "      <th>gdp_per_capita</th>\n",
              "      <th>extreme_poverty</th>\n",
              "      <th>cardiovasc_death_rate</th>\n",
              "      <th>diabetes_prevalence</th>\n",
              "      <th>female_smokers</th>\n",
              "      <th>male_smokers</th>\n",
              "      <th>handwashing_facilities</th>\n",
              "      <th>hospital_beds_per_thousand</th>\n",
              "      <th>life_expectancy</th>\n",
              "      <th>human_development_index</th>\n",
              "      <th>Unnamed: 59</th>\n",
              "      <th>new_cases_permillion</th>\n",
              "      <th>new_deaths_permillion</th>\n",
              "      <th>new_tests_permillion</th>\n",
              "      <th>new_tests_perthousand</th>\n",
              "      <th>new_cases_perthousand</th>\n",
              "      <th>new_deaths_perthousand</th>\n",
              "    </tr>\n",
              "  </thead>\n",
              "  <tbody>\n",
              "    <tr>\n",
              "      <th>0</th>\n",
              "      <td>AFG</td>\n",
              "      <td>AFG</td>\n",
              "      <td>Afghanistan</td>\n",
              "      <td>24-02-2020</td>\n",
              "      <td>1.0</td>\n",
              "      <td>1.0</td>\n",
              "      <td>NaN</td>\n",
              "      <td>NaN</td>\n",
              "      <td>NaN</td>\n",
              "      <td>NaN</td>\n",
              "      <td>0.026</td>\n",
              "      <td>0.026</td>\n",
              "      <td>NaN</td>\n",
              "      <td>NaN</td>\n",
              "      <td>NaN</td>\n",
              "      <td>NaN</td>\n",
              "      <td>NaN</td>\n",
              "      <td>NaN</td>\n",
              "      <td>NaN</td>\n",
              "      <td>NaN</td>\n",
              "      <td>NaN</td>\n",
              "      <td>NaN</td>\n",
              "      <td>NaN</td>\n",
              "      <td>NaN</td>\n",
              "      <td>NaN</td>\n",
              "      <td>NaN</td>\n",
              "      <td>NaN</td>\n",
              "      <td>NaN</td>\n",
              "      <td>NaN</td>\n",
              "      <td>NaN</td>\n",
              "      <td>NaN</td>\n",
              "      <td>NaN</td>\n",
              "      <td>NaN</td>\n",
              "      <td>NaN</td>\n",
              "      <td>NaN</td>\n",
              "      <td>NaN</td>\n",
              "      <td>NaN</td>\n",
              "      <td>NaN</td>\n",
              "      <td>NaN</td>\n",
              "      <td>NaN</td>\n",
              "      <td>NaN</td>\n",
              "      <td>NaN</td>\n",
              "      <td>NaN</td>\n",
              "      <td>8.33</td>\n",
              "      <td>38928341.0</td>\n",
              "      <td>54.422</td>\n",
              "      <td>18.6</td>\n",
              "      <td>2.581</td>\n",
              "      <td>1.337</td>\n",
              "      <td>1803.987</td>\n",
              "      <td>NaN</td>\n",
              "      <td>597.029</td>\n",
              "      <td>9.59</td>\n",
              "      <td>NaN</td>\n",
              "      <td>NaN</td>\n",
              "      <td>37.746</td>\n",
              "      <td>0.5</td>\n",
              "      <td>64.83</td>\n",
              "      <td>0.511</td>\n",
              "      <td>NaN</td>\n",
              "      <td>0.000001</td>\n",
              "      <td>0.0</td>\n",
              "      <td>0.0</td>\n",
              "      <td>0.0</td>\n",
              "      <td>0.001</td>\n",
              "      <td>0.0</td>\n",
              "    </tr>\n",
              "    <tr>\n",
              "      <th>1</th>\n",
              "      <td>AFG</td>\n",
              "      <td>Asia</td>\n",
              "      <td>Afghanistan</td>\n",
              "      <td>25-02-2020</td>\n",
              "      <td>1.0</td>\n",
              "      <td>0.0</td>\n",
              "      <td>NaN</td>\n",
              "      <td>NaN</td>\n",
              "      <td>NaN</td>\n",
              "      <td>NaN</td>\n",
              "      <td>0.026</td>\n",
              "      <td>0.000</td>\n",
              "      <td>NaN</td>\n",
              "      <td>NaN</td>\n",
              "      <td>NaN</td>\n",
              "      <td>NaN</td>\n",
              "      <td>NaN</td>\n",
              "      <td>NaN</td>\n",
              "      <td>NaN</td>\n",
              "      <td>NaN</td>\n",
              "      <td>NaN</td>\n",
              "      <td>NaN</td>\n",
              "      <td>NaN</td>\n",
              "      <td>NaN</td>\n",
              "      <td>NaN</td>\n",
              "      <td>NaN</td>\n",
              "      <td>NaN</td>\n",
              "      <td>NaN</td>\n",
              "      <td>NaN</td>\n",
              "      <td>NaN</td>\n",
              "      <td>NaN</td>\n",
              "      <td>NaN</td>\n",
              "      <td>NaN</td>\n",
              "      <td>NaN</td>\n",
              "      <td>NaN</td>\n",
              "      <td>NaN</td>\n",
              "      <td>NaN</td>\n",
              "      <td>NaN</td>\n",
              "      <td>NaN</td>\n",
              "      <td>NaN</td>\n",
              "      <td>NaN</td>\n",
              "      <td>NaN</td>\n",
              "      <td>NaN</td>\n",
              "      <td>8.33</td>\n",
              "      <td>38928341.0</td>\n",
              "      <td>54.422</td>\n",
              "      <td>18.6</td>\n",
              "      <td>2.581</td>\n",
              "      <td>1.337</td>\n",
              "      <td>1803.987</td>\n",
              "      <td>NaN</td>\n",
              "      <td>597.029</td>\n",
              "      <td>9.59</td>\n",
              "      <td>NaN</td>\n",
              "      <td>NaN</td>\n",
              "      <td>37.746</td>\n",
              "      <td>0.5</td>\n",
              "      <td>64.83</td>\n",
              "      <td>0.511</td>\n",
              "      <td>NaN</td>\n",
              "      <td>0.000000</td>\n",
              "      <td>0.0</td>\n",
              "      <td>0.0</td>\n",
              "      <td>0.0</td>\n",
              "      <td>0.000</td>\n",
              "      <td>0.0</td>\n",
              "    </tr>\n",
              "    <tr>\n",
              "      <th>2</th>\n",
              "      <td>AFG</td>\n",
              "      <td>Asia</td>\n",
              "      <td>Afghanistan</td>\n",
              "      <td>26-02-2020</td>\n",
              "      <td>1.0</td>\n",
              "      <td>0.0</td>\n",
              "      <td>NaN</td>\n",
              "      <td>NaN</td>\n",
              "      <td>NaN</td>\n",
              "      <td>NaN</td>\n",
              "      <td>0.026</td>\n",
              "      <td>0.000</td>\n",
              "      <td>NaN</td>\n",
              "      <td>NaN</td>\n",
              "      <td>NaN</td>\n",
              "      <td>NaN</td>\n",
              "      <td>NaN</td>\n",
              "      <td>NaN</td>\n",
              "      <td>NaN</td>\n",
              "      <td>NaN</td>\n",
              "      <td>NaN</td>\n",
              "      <td>NaN</td>\n",
              "      <td>NaN</td>\n",
              "      <td>NaN</td>\n",
              "      <td>NaN</td>\n",
              "      <td>NaN</td>\n",
              "      <td>NaN</td>\n",
              "      <td>NaN</td>\n",
              "      <td>NaN</td>\n",
              "      <td>NaN</td>\n",
              "      <td>NaN</td>\n",
              "      <td>NaN</td>\n",
              "      <td>NaN</td>\n",
              "      <td>NaN</td>\n",
              "      <td>NaN</td>\n",
              "      <td>NaN</td>\n",
              "      <td>NaN</td>\n",
              "      <td>NaN</td>\n",
              "      <td>NaN</td>\n",
              "      <td>NaN</td>\n",
              "      <td>NaN</td>\n",
              "      <td>NaN</td>\n",
              "      <td>NaN</td>\n",
              "      <td>8.33</td>\n",
              "      <td>38928341.0</td>\n",
              "      <td>54.422</td>\n",
              "      <td>18.6</td>\n",
              "      <td>2.581</td>\n",
              "      <td>1.337</td>\n",
              "      <td>1803.987</td>\n",
              "      <td>NaN</td>\n",
              "      <td>597.029</td>\n",
              "      <td>9.59</td>\n",
              "      <td>NaN</td>\n",
              "      <td>NaN</td>\n",
              "      <td>37.746</td>\n",
              "      <td>0.5</td>\n",
              "      <td>64.83</td>\n",
              "      <td>0.511</td>\n",
              "      <td>NaN</td>\n",
              "      <td>0.000000</td>\n",
              "      <td>0.0</td>\n",
              "      <td>0.0</td>\n",
              "      <td>0.0</td>\n",
              "      <td>0.000</td>\n",
              "      <td>0.0</td>\n",
              "    </tr>\n",
              "    <tr>\n",
              "      <th>3</th>\n",
              "      <td>AFG</td>\n",
              "      <td>Asia</td>\n",
              "      <td>Afghanistan</td>\n",
              "      <td>27-02-2020</td>\n",
              "      <td>1.0</td>\n",
              "      <td>0.0</td>\n",
              "      <td>NaN</td>\n",
              "      <td>NaN</td>\n",
              "      <td>NaN</td>\n",
              "      <td>NaN</td>\n",
              "      <td>0.026</td>\n",
              "      <td>0.000</td>\n",
              "      <td>NaN</td>\n",
              "      <td>NaN</td>\n",
              "      <td>NaN</td>\n",
              "      <td>NaN</td>\n",
              "      <td>NaN</td>\n",
              "      <td>NaN</td>\n",
              "      <td>NaN</td>\n",
              "      <td>NaN</td>\n",
              "      <td>NaN</td>\n",
              "      <td>NaN</td>\n",
              "      <td>NaN</td>\n",
              "      <td>NaN</td>\n",
              "      <td>NaN</td>\n",
              "      <td>NaN</td>\n",
              "      <td>NaN</td>\n",
              "      <td>NaN</td>\n",
              "      <td>NaN</td>\n",
              "      <td>NaN</td>\n",
              "      <td>NaN</td>\n",
              "      <td>NaN</td>\n",
              "      <td>NaN</td>\n",
              "      <td>NaN</td>\n",
              "      <td>NaN</td>\n",
              "      <td>NaN</td>\n",
              "      <td>NaN</td>\n",
              "      <td>NaN</td>\n",
              "      <td>NaN</td>\n",
              "      <td>NaN</td>\n",
              "      <td>NaN</td>\n",
              "      <td>NaN</td>\n",
              "      <td>NaN</td>\n",
              "      <td>8.33</td>\n",
              "      <td>38928341.0</td>\n",
              "      <td>54.422</td>\n",
              "      <td>18.6</td>\n",
              "      <td>2.581</td>\n",
              "      <td>1.337</td>\n",
              "      <td>1803.987</td>\n",
              "      <td>NaN</td>\n",
              "      <td>597.029</td>\n",
              "      <td>9.59</td>\n",
              "      <td>NaN</td>\n",
              "      <td>NaN</td>\n",
              "      <td>37.746</td>\n",
              "      <td>0.5</td>\n",
              "      <td>64.83</td>\n",
              "      <td>0.511</td>\n",
              "      <td>NaN</td>\n",
              "      <td>0.000000</td>\n",
              "      <td>0.0</td>\n",
              "      <td>0.0</td>\n",
              "      <td>0.0</td>\n",
              "      <td>0.000</td>\n",
              "      <td>0.0</td>\n",
              "    </tr>\n",
              "    <tr>\n",
              "      <th>4</th>\n",
              "      <td>AFG</td>\n",
              "      <td>Asia</td>\n",
              "      <td>Afghanistan</td>\n",
              "      <td>28-02-2020</td>\n",
              "      <td>1.0</td>\n",
              "      <td>0.0</td>\n",
              "      <td>NaN</td>\n",
              "      <td>NaN</td>\n",
              "      <td>NaN</td>\n",
              "      <td>NaN</td>\n",
              "      <td>0.026</td>\n",
              "      <td>0.000</td>\n",
              "      <td>NaN</td>\n",
              "      <td>NaN</td>\n",
              "      <td>NaN</td>\n",
              "      <td>NaN</td>\n",
              "      <td>NaN</td>\n",
              "      <td>NaN</td>\n",
              "      <td>NaN</td>\n",
              "      <td>NaN</td>\n",
              "      <td>NaN</td>\n",
              "      <td>NaN</td>\n",
              "      <td>NaN</td>\n",
              "      <td>NaN</td>\n",
              "      <td>NaN</td>\n",
              "      <td>NaN</td>\n",
              "      <td>NaN</td>\n",
              "      <td>NaN</td>\n",
              "      <td>NaN</td>\n",
              "      <td>NaN</td>\n",
              "      <td>NaN</td>\n",
              "      <td>NaN</td>\n",
              "      <td>NaN</td>\n",
              "      <td>NaN</td>\n",
              "      <td>NaN</td>\n",
              "      <td>NaN</td>\n",
              "      <td>NaN</td>\n",
              "      <td>NaN</td>\n",
              "      <td>NaN</td>\n",
              "      <td>NaN</td>\n",
              "      <td>NaN</td>\n",
              "      <td>NaN</td>\n",
              "      <td>NaN</td>\n",
              "      <td>8.33</td>\n",
              "      <td>38928341.0</td>\n",
              "      <td>54.422</td>\n",
              "      <td>18.6</td>\n",
              "      <td>2.581</td>\n",
              "      <td>1.337</td>\n",
              "      <td>1803.987</td>\n",
              "      <td>NaN</td>\n",
              "      <td>597.029</td>\n",
              "      <td>9.59</td>\n",
              "      <td>NaN</td>\n",
              "      <td>NaN</td>\n",
              "      <td>37.746</td>\n",
              "      <td>0.5</td>\n",
              "      <td>64.83</td>\n",
              "      <td>0.511</td>\n",
              "      <td>NaN</td>\n",
              "      <td>0.000000</td>\n",
              "      <td>0.0</td>\n",
              "      <td>0.0</td>\n",
              "      <td>0.0</td>\n",
              "      <td>0.000</td>\n",
              "      <td>0.0</td>\n",
              "    </tr>\n",
              "  </tbody>\n",
              "</table>\n",
              "</div>"
            ],
            "text/plain": [
              "  iso_code continent  ... new_cases_perthousand new_deaths_perthousand\n",
              "0      AFG       AFG  ...                 0.001                    0.0\n",
              "1      AFG      Asia  ...                 0.000                    0.0\n",
              "2      AFG      Asia  ...                 0.000                    0.0\n",
              "3      AFG      Asia  ...                 0.000                    0.0\n",
              "4      AFG      Asia  ...                 0.000                    0.0\n",
              "\n",
              "[5 rows x 66 columns]"
            ]
          },
          "metadata": {},
          "execution_count": 29
        }
      ]
    },
    {
      "cell_type": "code",
      "metadata": {
        "id": "BA4RbIgtq_T9"
      },
      "source": [
        "DataCovid.insert(loc=0, column='A', value=np.arange(len(DataCovid)))"
      ],
      "execution_count": 30,
      "outputs": []
    },
    {
      "cell_type": "code",
      "metadata": {
        "colab": {
          "base_uri": "https://localhost:8080/",
          "height": 203
        },
        "id": "tJWhnMKAscDD",
        "outputId": "53df0b0a-3d07-4fd9-e390-031a90b8d609"
      },
      "source": [
        "InpData = DataCovid[['A', 'date', 'location', 'new_cases_perthousand', 'people_vaccinated_per_hundred', 'people_fully_vaccinated_per_hundred', 'stringency_index','new_tests_perthousand']]\n",
        "InpData.head()"
      ],
      "execution_count": 31,
      "outputs": [
        {
          "output_type": "execute_result",
          "data": {
            "text/html": [
              "<div>\n",
              "<style scoped>\n",
              "    .dataframe tbody tr th:only-of-type {\n",
              "        vertical-align: middle;\n",
              "    }\n",
              "\n",
              "    .dataframe tbody tr th {\n",
              "        vertical-align: top;\n",
              "    }\n",
              "\n",
              "    .dataframe thead th {\n",
              "        text-align: right;\n",
              "    }\n",
              "</style>\n",
              "<table border=\"1\" class=\"dataframe\">\n",
              "  <thead>\n",
              "    <tr style=\"text-align: right;\">\n",
              "      <th></th>\n",
              "      <th>A</th>\n",
              "      <th>date</th>\n",
              "      <th>location</th>\n",
              "      <th>new_cases_perthousand</th>\n",
              "      <th>people_vaccinated_per_hundred</th>\n",
              "      <th>people_fully_vaccinated_per_hundred</th>\n",
              "      <th>stringency_index</th>\n",
              "      <th>new_tests_perthousand</th>\n",
              "    </tr>\n",
              "  </thead>\n",
              "  <tbody>\n",
              "    <tr>\n",
              "      <th>0</th>\n",
              "      <td>0</td>\n",
              "      <td>24-02-2020</td>\n",
              "      <td>Afghanistan</td>\n",
              "      <td>0.001</td>\n",
              "      <td>NaN</td>\n",
              "      <td>NaN</td>\n",
              "      <td>8.33</td>\n",
              "      <td>0.0</td>\n",
              "    </tr>\n",
              "    <tr>\n",
              "      <th>1</th>\n",
              "      <td>1</td>\n",
              "      <td>25-02-2020</td>\n",
              "      <td>Afghanistan</td>\n",
              "      <td>0.000</td>\n",
              "      <td>NaN</td>\n",
              "      <td>NaN</td>\n",
              "      <td>8.33</td>\n",
              "      <td>0.0</td>\n",
              "    </tr>\n",
              "    <tr>\n",
              "      <th>2</th>\n",
              "      <td>2</td>\n",
              "      <td>26-02-2020</td>\n",
              "      <td>Afghanistan</td>\n",
              "      <td>0.000</td>\n",
              "      <td>NaN</td>\n",
              "      <td>NaN</td>\n",
              "      <td>8.33</td>\n",
              "      <td>0.0</td>\n",
              "    </tr>\n",
              "    <tr>\n",
              "      <th>3</th>\n",
              "      <td>3</td>\n",
              "      <td>27-02-2020</td>\n",
              "      <td>Afghanistan</td>\n",
              "      <td>0.000</td>\n",
              "      <td>NaN</td>\n",
              "      <td>NaN</td>\n",
              "      <td>8.33</td>\n",
              "      <td>0.0</td>\n",
              "    </tr>\n",
              "    <tr>\n",
              "      <th>4</th>\n",
              "      <td>4</td>\n",
              "      <td>28-02-2020</td>\n",
              "      <td>Afghanistan</td>\n",
              "      <td>0.000</td>\n",
              "      <td>NaN</td>\n",
              "      <td>NaN</td>\n",
              "      <td>8.33</td>\n",
              "      <td>0.0</td>\n",
              "    </tr>\n",
              "  </tbody>\n",
              "</table>\n",
              "</div>"
            ],
            "text/plain": [
              "   A        date  ... stringency_index  new_tests_perthousand\n",
              "0  0  24-02-2020  ...             8.33                    0.0\n",
              "1  1  25-02-2020  ...             8.33                    0.0\n",
              "2  2  26-02-2020  ...             8.33                    0.0\n",
              "3  3  27-02-2020  ...             8.33                    0.0\n",
              "4  4  28-02-2020  ...             8.33                    0.0\n",
              "\n",
              "[5 rows x 8 columns]"
            ]
          },
          "metadata": {},
          "execution_count": 31
        }
      ]
    },
    {
      "cell_type": "code",
      "metadata": {
        "id": "TvAQAYEzseCO"
      },
      "source": [
        "InpIndia = InpData[InpData['location'] == 'India']"
      ],
      "execution_count": 32,
      "outputs": []
    },
    {
      "cell_type": "code",
      "metadata": {
        "colab": {
          "base_uri": "https://localhost:8080/",
          "height": 203
        },
        "id": "Zrzt32Yjsht0",
        "outputId": "ef50fecb-824d-4281-e4c8-1c8bc2127d1f"
      },
      "source": [
        "InpIndia.tail()"
      ],
      "execution_count": 33,
      "outputs": [
        {
          "output_type": "execute_result",
          "data": {
            "text/html": [
              "<div>\n",
              "<style scoped>\n",
              "    .dataframe tbody tr th:only-of-type {\n",
              "        vertical-align: middle;\n",
              "    }\n",
              "\n",
              "    .dataframe tbody tr th {\n",
              "        vertical-align: top;\n",
              "    }\n",
              "\n",
              "    .dataframe thead th {\n",
              "        text-align: right;\n",
              "    }\n",
              "</style>\n",
              "<table border=\"1\" class=\"dataframe\">\n",
              "  <thead>\n",
              "    <tr style=\"text-align: right;\">\n",
              "      <th></th>\n",
              "      <th>A</th>\n",
              "      <th>date</th>\n",
              "      <th>location</th>\n",
              "      <th>new_cases_perthousand</th>\n",
              "      <th>people_vaccinated_per_hundred</th>\n",
              "      <th>people_fully_vaccinated_per_hundred</th>\n",
              "      <th>stringency_index</th>\n",
              "      <th>new_tests_perthousand</th>\n",
              "    </tr>\n",
              "  </thead>\n",
              "  <tbody>\n",
              "    <tr>\n",
              "      <th>39155</th>\n",
              "      <td>39155</td>\n",
              "      <td>31-05-2021</td>\n",
              "      <td>India</td>\n",
              "      <td>127.510</td>\n",
              "      <td>12.12</td>\n",
              "      <td>3.13</td>\n",
              "      <td>81.94</td>\n",
              "      <td>1683.135</td>\n",
              "    </tr>\n",
              "    <tr>\n",
              "      <th>39156</th>\n",
              "      <td>39156</td>\n",
              "      <td>01-06-2021</td>\n",
              "      <td>India</td>\n",
              "      <td>132.788</td>\n",
              "      <td>12.29</td>\n",
              "      <td>3.16</td>\n",
              "      <td>NaN</td>\n",
              "      <td>1925.374</td>\n",
              "    </tr>\n",
              "    <tr>\n",
              "      <th>39157</th>\n",
              "      <td>39157</td>\n",
              "      <td>02-06-2021</td>\n",
              "      <td>India</td>\n",
              "      <td>134.154</td>\n",
              "      <td>12.45</td>\n",
              "      <td>3.17</td>\n",
              "      <td>NaN</td>\n",
              "      <td>3265.073</td>\n",
              "    </tr>\n",
              "    <tr>\n",
              "      <th>39158</th>\n",
              "      <td>39158</td>\n",
              "      <td>03-06-2021</td>\n",
              "      <td>India</td>\n",
              "      <td>132.364</td>\n",
              "      <td>12.63</td>\n",
              "      <td>3.19</td>\n",
              "      <td>NaN</td>\n",
              "      <td>3725.318</td>\n",
              "    </tr>\n",
              "    <tr>\n",
              "      <th>39159</th>\n",
              "      <td>39159</td>\n",
              "      <td>04-06-2021</td>\n",
              "      <td>India</td>\n",
              "      <td>120.529</td>\n",
              "      <td>12.98</td>\n",
              "      <td>3.22</td>\n",
              "      <td>NaN</td>\n",
              "      <td>3651.198</td>\n",
              "    </tr>\n",
              "  </tbody>\n",
              "</table>\n",
              "</div>"
            ],
            "text/plain": [
              "           A        date  ... stringency_index  new_tests_perthousand\n",
              "39155  39155  31-05-2021  ...            81.94               1683.135\n",
              "39156  39156  01-06-2021  ...              NaN               1925.374\n",
              "39157  39157  02-06-2021  ...              NaN               3265.073\n",
              "39158  39158  03-06-2021  ...              NaN               3725.318\n",
              "39159  39159  04-06-2021  ...              NaN               3651.198\n",
              "\n",
              "[5 rows x 8 columns]"
            ]
          },
          "metadata": {},
          "execution_count": 33
        }
      ]
    },
    {
      "cell_type": "code",
      "metadata": {
        "colab": {
          "base_uri": "https://localhost:8080/"
        },
        "id": "IjRv0cLasjPV",
        "outputId": "b6753e27-c3c6-4e7b-8803-6aed2a35903b"
      },
      "source": [
        "InpIndiaSW = InpIndia[InpIndia['A'] >= 39053] #second wave started\n",
        "InpIndiaSW.tail()\n",
        "InpIndiaSW.isna().any()"
      ],
      "execution_count": 34,
      "outputs": [
        {
          "output_type": "execute_result",
          "data": {
            "text/plain": [
              "A                                      False\n",
              "date                                   False\n",
              "location                               False\n",
              "new_cases_perthousand                  False\n",
              "people_vaccinated_per_hundred           True\n",
              "people_fully_vaccinated_per_hundred     True\n",
              "stringency_index                        True\n",
              "new_tests_perthousand                  False\n",
              "dtype: bool"
            ]
          },
          "metadata": {},
          "execution_count": 34
        }
      ]
    },
    {
      "cell_type": "code",
      "metadata": {
        "colab": {
          "base_uri": "https://localhost:8080/",
          "height": 379
        },
        "id": "lw9JqC4tskrU",
        "outputId": "92fb4de9-b075-4582-894f-650d6fe320b2"
      },
      "source": [
        "InpIndiaSW.dropna(inplace=True)\n",
        "InpIndiaSW.shape\n",
        "InpIndiaSW.isna().any()\n",
        "InpIndiaSW.describe()"
      ],
      "execution_count": 35,
      "outputs": [
        {
          "output_type": "stream",
          "text": [
            "/usr/local/lib/python3.7/dist-packages/ipykernel_launcher.py:1: SettingWithCopyWarning: \n",
            "A value is trying to be set on a copy of a slice from a DataFrame\n",
            "\n",
            "See the caveats in the documentation: https://pandas.pydata.org/pandas-docs/stable/user_guide/indexing.html#returning-a-view-versus-a-copy\n",
            "  \"\"\"Entry point for launching an IPython kernel.\n"
          ],
          "name": "stderr"
        },
        {
          "output_type": "execute_result",
          "data": {
            "text/html": [
              "<div>\n",
              "<style scoped>\n",
              "    .dataframe tbody tr th:only-of-type {\n",
              "        vertical-align: middle;\n",
              "    }\n",
              "\n",
              "    .dataframe tbody tr th {\n",
              "        vertical-align: top;\n",
              "    }\n",
              "\n",
              "    .dataframe thead th {\n",
              "        text-align: right;\n",
              "    }\n",
              "</style>\n",
              "<table border=\"1\" class=\"dataframe\">\n",
              "  <thead>\n",
              "    <tr style=\"text-align: right;\">\n",
              "      <th></th>\n",
              "      <th>A</th>\n",
              "      <th>new_cases_perthousand</th>\n",
              "      <th>people_vaccinated_per_hundred</th>\n",
              "      <th>people_fully_vaccinated_per_hundred</th>\n",
              "      <th>stringency_index</th>\n",
              "      <th>new_tests_perthousand</th>\n",
              "    </tr>\n",
              "  </thead>\n",
              "  <tbody>\n",
              "    <tr>\n",
              "      <th>count</th>\n",
              "      <td>99.000000</td>\n",
              "      <td>99.000000</td>\n",
              "      <td>99.000000</td>\n",
              "      <td>99.000000</td>\n",
              "      <td>99.000000</td>\n",
              "      <td>99.000000</td>\n",
              "    </tr>\n",
              "    <tr>\n",
              "      <th>mean</th>\n",
              "      <td>39103.212121</td>\n",
              "      <td>161.372818</td>\n",
              "      <td>5.857071</td>\n",
              "      <td>1.294141</td>\n",
              "      <td>68.831313</td>\n",
              "      <td>1243.508636</td>\n",
              "    </tr>\n",
              "    <tr>\n",
              "      <th>std</th>\n",
              "      <td>30.109417</td>\n",
              "      <td>137.393275</td>\n",
              "      <td>3.836507</td>\n",
              "      <td>1.058821</td>\n",
              "      <td>8.921705</td>\n",
              "      <td>562.989261</td>\n",
              "    </tr>\n",
              "    <tr>\n",
              "      <th>min</th>\n",
              "      <td>39053.000000</td>\n",
              "      <td>10.584000</td>\n",
              "      <td>0.680000</td>\n",
              "      <td>0.030000</td>\n",
              "      <td>57.870000</td>\n",
              "      <td>0.000000</td>\n",
              "    </tr>\n",
              "    <tr>\n",
              "      <th>25%</th>\n",
              "      <td>39077.500000</td>\n",
              "      <td>25.805500</td>\n",
              "      <td>1.865000</td>\n",
              "      <td>0.415000</td>\n",
              "      <td>59.720000</td>\n",
              "      <td>790.000500</td>\n",
              "    </tr>\n",
              "    <tr>\n",
              "      <th>50%</th>\n",
              "      <td>39102.000000</td>\n",
              "      <td>127.510000</td>\n",
              "      <td>5.980000</td>\n",
              "      <td>0.860000</td>\n",
              "      <td>69.910000</td>\n",
              "      <td>1180.136000</td>\n",
              "    </tr>\n",
              "    <tr>\n",
              "      <th>75%</th>\n",
              "      <td>39129.500000</td>\n",
              "      <td>274.956000</td>\n",
              "      <td>9.450000</td>\n",
              "      <td>2.240000</td>\n",
              "      <td>73.610000</td>\n",
              "      <td>1721.750000</td>\n",
              "    </tr>\n",
              "    <tr>\n",
              "      <th>max</th>\n",
              "      <td>39155.000000</td>\n",
              "      <td>414.188000</td>\n",
              "      <td>12.120000</td>\n",
              "      <td>3.130000</td>\n",
              "      <td>81.940000</td>\n",
              "      <td>2217.320000</td>\n",
              "    </tr>\n",
              "  </tbody>\n",
              "</table>\n",
              "</div>"
            ],
            "text/plain": [
              "                  A  ...  new_tests_perthousand\n",
              "count     99.000000  ...              99.000000\n",
              "mean   39103.212121  ...            1243.508636\n",
              "std       30.109417  ...             562.989261\n",
              "min    39053.000000  ...               0.000000\n",
              "25%    39077.500000  ...             790.000500\n",
              "50%    39102.000000  ...            1180.136000\n",
              "75%    39129.500000  ...            1721.750000\n",
              "max    39155.000000  ...            2217.320000\n",
              "\n",
              "[8 rows x 6 columns]"
            ]
          },
          "metadata": {},
          "execution_count": 35
        }
      ]
    },
    {
      "cell_type": "markdown",
      "metadata": {
        "id": "iY2GrmQGlypN"
      },
      "source": [
        "**Plotting the Data**"
      ]
    },
    {
      "cell_type": "code",
      "metadata": {
        "colab": {
          "base_uri": "https://localhost:8080/",
          "height": 1000
        },
        "id": "b5VWTnzotRW1",
        "outputId": "2d8a31da-d43e-4b1a-d1d3-80ca6c494756"
      },
      "source": [
        "InpIndiaSW.plot(kind= 'scatter', x = 'stringency_index', y='new_cases_perthousand')\n",
        "InpIndiaSW.plot(kind= 'scatter', x = 'people_vaccinated_per_hundred', y='new_cases_perthousand')\n",
        "InpIndiaSW.plot(kind= 'scatter', x = 'people_fully_vaccinated_per_hundred', y='new_cases_perthousand')\n",
        "InpIndiaSW.plot(kind= 'scatter', x = 'new_tests_perthousand', y='new_cases_perthousand')"
      ],
      "execution_count": 36,
      "outputs": [
        {
          "output_type": "execute_result",
          "data": {
            "text/plain": [
              "<matplotlib.axes._subplots.AxesSubplot at 0x7f85a578a790>"
            ]
          },
          "metadata": {},
          "execution_count": 36
        },
        {
          "output_type": "display_data",
          "data": {
            "image/png": "[encoded data removed]",
            "text/plain": [
              "<Figure size 432x288 with 1 Axes>"
            ]
          },
          "metadata": {
            "needs_background": "light"
          }
        },
        {
          "output_type": "display_data",
          "data": {
            "image/png": "[encoded data removed]",
            "text/plain": [
              "<Figure size 432x288 with 1 Axes>"
            ]
          },
          "metadata": {
            "needs_background": "light"
          }
        },
        {
          "output_type": "display_data",
          "data": {
            "image/png": "[encoded data removed]",
            "text/plain": [
              "<Figure size 432x288 with 1 Axes>"
            ]
          },
          "metadata": {
            "needs_background": "light"
          }
        },
        {
          "output_type": "display_data",
          "data": {
            "image/png": "[encoded data removed]",
            "text/plain": [
              "<Figure size 432x288 with 1 Axes>"
            ]
          },
          "metadata": {
            "needs_background": "light"
          }
        }
      ]
    },
    {
      "cell_type": "code",
      "metadata": {
        "id": "bSNEUs4csmV0"
      },
      "source": [
        "X = InpIndiaSW.iloc[:,4:8].values\n",
        "y= InpIndiaSW.iloc[:,3].values\n",
        "#y\n",
        "#InpIndia.new_deaths_perthousand.max()"
      ],
      "execution_count": 37,
      "outputs": []
    },
    {
      "cell_type": "code",
      "metadata": {
        "id": "5X8tCacqss-Z"
      },
      "source": [
        "#splitting the data\n",
        "from sklearn.model_selection import train_test_split\n",
        "X_train, X_test, y_train, y_test = train_test_split(X,y, test_size =0.3, random_state =0)"
      ],
      "execution_count": 38,
      "outputs": []
    },
    {
      "cell_type": "code",
      "metadata": {
        "id": "2BKF8RiFsv17"
      },
      "source": [
        "# # scalling the Data\n",
        "# from sklearn.preprocessing import StandardScaler\n",
        "\n",
        "# sc = StandardScaler()\n",
        "# X_train = sc.fit_transform(X_train)\n",
        "# X_test = sc.transform(X_test)"
      ],
      "execution_count": 39,
      "outputs": []
    },
    {
      "cell_type": "markdown",
      "metadata": {
        "id": "Za0ZBXA3mDvF"
      },
      "source": [
        "**Random Forest Regressor** "
      ]
    },
    {
      "cell_type": "code",
      "metadata": {
        "colab": {
          "base_uri": "https://localhost:8080/"
        },
        "id": "6JTPG678syxS",
        "outputId": "0e15cbc7-5f0e-45b0-bd53-38f145a5cf12"
      },
      "source": [
        "from sklearn.ensemble import RandomForestRegressor\n",
        "RFReg = RandomForestRegressor(n_estimators =50, random_state = 0)\n",
        "RFReg.fit(X_train, y_train) "
      ],
      "execution_count": 40,
      "outputs": [
        {
          "output_type": "execute_result",
          "data": {
            "text/plain": [
              "RandomForestRegressor(bootstrap=True, ccp_alpha=0.0, criterion='mse',\n",
              "                      max_depth=None, max_features='auto', max_leaf_nodes=None,\n",
              "                      max_samples=None, min_impurity_decrease=0.0,\n",
              "                      min_impurity_split=None, min_samples_leaf=1,\n",
              "                      min_samples_split=2, min_weight_fraction_leaf=0.0,\n",
              "                      n_estimators=50, n_jobs=None, oob_score=False,\n",
              "                      random_state=0, verbose=0, warm_start=False)"
            ]
          },
          "metadata": {},
          "execution_count": 40
        }
      ]
    },
    {
      "cell_type": "code",
      "metadata": {
        "id": "9WHRxet_s0kL"
      },
      "source": [
        "y_predict_rfr = RFReg.predict((X_test))\n",
        "#y_predict_rfr\n",
        "#y_test\n"
      ],
      "execution_count": 41,
      "outputs": []
    },
    {
      "cell_type": "code",
      "metadata": {
        "id": "tM8ie9S3s3iK",
        "colab": {
          "base_uri": "https://localhost:8080/"
        },
        "outputId": "518c1c38-ec5a-4fc3-bb22-7051e6e3d758"
      },
      "source": [
        "#R squared value\n",
        "from sklearn import metrics\n",
        "r_square = metrics.r2_score(y_test, y_predict_rfr)\n",
        "r_square"
      ],
      "execution_count": 42,
      "outputs": [
        {
          "output_type": "execute_result",
          "data": {
            "text/plain": [
              "0.9601282424221588"
            ]
          },
          "metadata": {},
          "execution_count": 42
        }
      ]
    },
    {
      "cell_type": "code",
      "metadata": {
        "colab": {
          "base_uri": "https://localhost:8080/"
        },
        "id": "K8G5-oq5tPoi",
        "outputId": "f537ed04-707d-40c7-e7ad-e118303ef939"
      },
      "source": [
        "#the errors\n",
        "MAE_RFReg = metrics.mean_absolute_error(y_test,y_predict_rfr)\n",
        "MSE_RFReg = metrics.mean_squared_error(y_test,y_predict_rfr)\n",
        "RMSE_RFReg = np.sqrt(metrics.mean_squared_error(y_test,y_predict_rfr))\n",
        "print(MAE_RFReg)\n",
        "print(MSE_RFReg)\n",
        "print(RMSE_RFReg)"
      ],
      "execution_count": 43,
      "outputs": [
        {
          "output_type": "stream",
          "text": [
            "15.701088000000016\n",
            "742.4391526098141\n",
            "27.247736651138826\n"
          ],
          "name": "stdout"
        }
      ]
    },
    {
      "cell_type": "code",
      "metadata": {
        "colab": {
          "base_uri": "https://localhost:8080/"
        },
        "id": "keRowQk7tT6r",
        "outputId": "e70c83d0-ee66-4151-d943-5b8061646f26"
      },
      "source": [
        "cases_predict = RFReg.predict([[7.300000e-01, 7.000000e-02, 6.157000e+01, 6.700500e+02],[0.06, 0.3, 50,80]])\n",
        "cases_predict"
      ],
      "execution_count": 44,
      "outputs": [
        {
          "output_type": "execute_result",
          "data": {
            "text/plain": [
              "array([13.2529 , 16.31894])"
            ]
          },
          "metadata": {},
          "execution_count": 44
        }
      ]
    },
    {
      "cell_type": "markdown",
      "metadata": {
        "id": "ojy26moTSvgl"
      },
      "source": [
        "**Multiple Linear Regression**"
      ]
    },
    {
      "cell_type": "code",
      "metadata": {
        "id": "hftingXiT_3p"
      },
      "source": [
        "from sklearn import model_selection\n",
        "X_train, X_test, y_train, y_test = model_selection.train_test_split(X, y, test_size =0.3, random_state =0)"
      ],
      "execution_count": 45,
      "outputs": []
    },
    {
      "cell_type": "code",
      "metadata": {
        "colab": {
          "base_uri": "https://localhost:8080/"
        },
        "id": "N5XLQQa2af6U",
        "outputId": "cff68cbd-7ed6-4125-8380-d02f241900bb"
      },
      "source": [
        "from sklearn.linear_model import LinearRegression\n",
        "lm = LinearRegression()\n",
        "lm.fit(X_train, y_train)"
      ],
      "execution_count": 46,
      "outputs": [
        {
          "output_type": "execute_result",
          "data": {
            "text/plain": [
              "LinearRegression(copy_X=True, fit_intercept=True, n_jobs=None, normalize=False)"
            ]
          },
          "metadata": {},
          "execution_count": 46
        }
      ]
    },
    {
      "cell_type": "code",
      "metadata": {
        "colab": {
          "base_uri": "https://localhost:8080/"
        },
        "id": "TsFQIywcaz_4",
        "outputId": "2eb30728-c3aa-4753-976b-4c58b215ab76"
      },
      "source": [
        "intercept = lm.intercept_\n",
        "coef = lm.coef_\n",
        "print(intercept)\n",
        "print(coef)"
      ],
      "execution_count": 47,
      "outputs": [
        {
          "output_type": "stream",
          "text": [
            "-127.52443025093746\n",
            "[ 4.57383993e+01 -7.24035698e+01  1.42845741e+00  1.47099446e-02]\n"
          ],
          "name": "stdout"
        }
      ]
    },
    {
      "cell_type": "code",
      "metadata": {
        "id": "dx0DWJoabJDr"
      },
      "source": [
        "y_predict_LReg = lm.predict(X_test)"
      ],
      "execution_count": 48,
      "outputs": []
    },
    {
      "cell_type": "code",
      "metadata": {
        "colab": {
          "base_uri": "https://localhost:8080/"
        },
        "id": "rDytFFzdmgZQ",
        "outputId": "5a99547f-4117-4a25-9a22-4f0e9f47b368"
      },
      "source": [
        "MAE_LReg = metrics.mean_absolute_error(y_test,y_predict_LReg)\n",
        "MSE_LReg = metrics.mean_squared_error(y_test,y_predict_LReg)\n",
        "RMSE_LReg = np.sqrt(metrics.mean_squared_error(y_test,y_predict_LReg))\n",
        "print(MAE_LReg)\n",
        "print(MSE_LReg)\n",
        "print(RMSE_LReg)"
      ],
      "execution_count": 49,
      "outputs": [
        {
          "output_type": "stream",
          "text": [
            "57.355231015597354\n",
            "6048.364454725382\n",
            "77.77123153663815\n"
          ],
          "name": "stdout"
        }
      ]
    },
    {
      "cell_type": "code",
      "metadata": {
        "colab": {
          "base_uri": "https://localhost:8080/",
          "height": 682
        },
        "id": "6HCmkJ5SbibP",
        "outputId": "53c4608d-0e77-4a91-92a9-c56fb0e2be39"
      },
      "source": [
        "import statsmodels.formula.api as smf\n",
        "lm = smf.ols(formula='new_cases_perthousand ~ people_vaccinated_per_hundred+people_fully_vaccinated_per_hundred+stringency_index+new_tests_perthousand', data = InpIndiaSW).fit()\n",
        "print(lm.conf_int())\n",
        "lm.summary()"
      ],
      "execution_count": 50,
      "outputs": [
        {
          "output_type": "stream",
          "text": [
            "/usr/local/lib/python3.7/dist-packages/statsmodels/tools/_testing.py:19: FutureWarning: pandas.util.testing is deprecated. Use the functions in the public API at pandas.testing instead.\n",
            "  import pandas.util.testing as tm\n"
          ],
          "name": "stderr"
        },
        {
          "output_type": "stream",
          "text": [
            "                                              0           1\n",
            "Intercept                           -297.611999  163.818862\n",
            "people_vaccinated_per_hundred         29.989679   58.023886\n",
            "people_fully_vaccinated_per_hundred -110.213264  -15.518070\n",
            "stringency_index                      -3.514574    4.388741\n",
            "new_tests_perthousand                 -0.025038    0.060085\n"
          ],
          "name": "stdout"
        },
        {
          "output_type": "execute_result",
          "data": {
            "text/html": [
              "<table class=\"simpletable\">\n",
              "<caption>OLS Regression Results</caption>\n",
              "<tr>\n",
              "  <th>Dep. Variable:</th>    <td>new_cases_perthousand</td> <th>  R-squared:         </th> <td>   0.747</td>\n",
              "</tr>\n",
              "<tr>\n",
              "  <th>Model:</th>                     <td>OLS</td>          <th>  Adj. R-squared:    </th> <td>   0.736</td>\n",
              "</tr>\n",
              "<tr>\n",
              "  <th>Method:</th>               <td>Least Squares</td>     <th>  F-statistic:       </th> <td>   69.42</td>\n",
              "</tr>\n",
              "<tr>\n",
              "  <th>Date:</th>               <td>Sun, 29 Aug 2021</td>    <th>  Prob (F-statistic):</th> <td>3.14e-27</td>\n",
              "</tr>\n",
              "<tr>\n",
              "  <th>Time:</th>                   <td>03:57:52</td>        <th>  Log-Likelihood:    </th> <td> -559.29</td>\n",
              "</tr>\n",
              "<tr>\n",
              "  <th>No. Observations:</th>        <td>    99</td>         <th>  AIC:               </th> <td>   1129.</td>\n",
              "</tr>\n",
              "<tr>\n",
              "  <th>Df Residuals:</th>            <td>    94</td>         <th>  BIC:               </th> <td>   1142.</td>\n",
              "</tr>\n",
              "<tr>\n",
              "  <th>Df Model:</th>                <td>     4</td>         <th>                     </th>     <td> </td>   \n",
              "</tr>\n",
              "<tr>\n",
              "  <th>Covariance Type:</th>        <td>nonrobust</td>       <th>                     </th>     <td> </td>   \n",
              "</tr>\n",
              "</table>\n",
              "<table class=\"simpletable\">\n",
              "<tr>\n",
              "                   <td></td>                      <th>coef</th>     <th>std err</th>      <th>t</th>      <th>P>|t|</th>  <th>[0.025</th>    <th>0.975]</th>  \n",
              "</tr>\n",
              "<tr>\n",
              "  <th>Intercept</th>                           <td>  -66.8966</td> <td>  116.199</td> <td>   -0.576</td> <td> 0.566</td> <td> -297.612</td> <td>  163.819</td>\n",
              "</tr>\n",
              "<tr>\n",
              "  <th>people_vaccinated_per_hundred</th>       <td>   44.0068</td> <td>    7.060</td> <td>    6.234</td> <td> 0.000</td> <td>   29.990</td> <td>   58.024</td>\n",
              "</tr>\n",
              "<tr>\n",
              "  <th>people_fully_vaccinated_per_hundred</th> <td>  -62.8657</td> <td>   23.846</td> <td>   -2.636</td> <td> 0.010</td> <td> -110.213</td> <td>  -15.518</td>\n",
              "</tr>\n",
              "<tr>\n",
              "  <th>stringency_index</th>                    <td>    0.4371</td> <td>    1.990</td> <td>    0.220</td> <td> 0.827</td> <td>   -3.515</td> <td>    4.389</td>\n",
              "</tr>\n",
              "<tr>\n",
              "  <th>new_tests_perthousand</th>               <td>    0.0175</td> <td>    0.021</td> <td>    0.817</td> <td> 0.416</td> <td>   -0.025</td> <td>    0.060</td>\n",
              "</tr>\n",
              "</table>\n",
              "<table class=\"simpletable\">\n",
              "<tr>\n",
              "  <th>Omnibus:</th>       <td> 2.945</td> <th>  Durbin-Watson:     </th> <td>   0.044</td>\n",
              "</tr>\n",
              "<tr>\n",
              "  <th>Prob(Omnibus):</th> <td> 0.229</td> <th>  Jarque-Bera (JB):  </th> <td>   2.417</td>\n",
              "</tr>\n",
              "<tr>\n",
              "  <th>Skew:</th>          <td>-0.232</td> <th>  Prob(JB):          </th> <td>   0.299</td>\n",
              "</tr>\n",
              "<tr>\n",
              "  <th>Kurtosis:</th>      <td> 3.609</td> <th>  Cond. No.          </th> <td>2.25e+04</td>\n",
              "</tr>\n",
              "</table><br/><br/>Warnings:<br/>[1] Standard Errors assume that the covariance matrix of the errors is correctly specified.<br/>[2] The condition number is large, 2.25e+04. This might indicate that there are<br/>strong multicollinearity or other numerical problems."
            ],
            "text/plain": [
              "<class 'statsmodels.iolib.summary.Summary'>\n",
              "\"\"\"\n",
              "                              OLS Regression Results                             \n",
              "=================================================================================\n",
              "Dep. Variable:     new_cases_perthousand   R-squared:                       0.747\n",
              "Model:                               OLS   Adj. R-squared:                  0.736\n",
              "Method:                    Least Squares   F-statistic:                     69.42\n",
              "Date:                   Sun, 29 Aug 2021   Prob (F-statistic):           3.14e-27\n",
              "Time:                           03:57:52   Log-Likelihood:                -559.29\n",
              "No. Observations:                     99   AIC:                             1129.\n",
              "Df Residuals:                         94   BIC:                             1142.\n",
              "Df Model:                              4                                         \n",
              "Covariance Type:               nonrobust                                         \n",
              "=======================================================================================================\n",
              "                                          coef    std err          t      P>|t|      [0.025      0.975]\n",
              "-------------------------------------------------------------------------------------------------------\n",
              "Intercept                             -66.8966    116.199     -0.576      0.566    -297.612     163.819\n",
              "people_vaccinated_per_hundred          44.0068      7.060      6.234      0.000      29.990      58.024\n",
              "people_fully_vaccinated_per_hundred   -62.8657     23.846     -2.636      0.010    -110.213     -15.518\n",
              "stringency_index                        0.4371      1.990      0.220      0.827      -3.515       4.389\n",
              "new_tests_perthousand                   0.0175      0.021      0.817      0.416      -0.025       0.060\n",
              "==============================================================================\n",
              "Omnibus:                        2.945   Durbin-Watson:                   0.044\n",
              "Prob(Omnibus):                  0.229   Jarque-Bera (JB):                2.417\n",
              "Skew:                          -0.232   Prob(JB):                        0.299\n",
              "Kurtosis:                       3.609   Cond. No.                     2.25e+04\n",
              "==============================================================================\n",
              "\n",
              "Warnings:\n",
              "[1] Standard Errors assume that the covariance matrix of the errors is correctly specified.\n",
              "[2] The condition number is large, 2.25e+04. This might indicate that there are\n",
              "strong multicollinearity or other numerical problems.\n",
              "\"\"\""
            ]
          },
          "metadata": {},
          "execution_count": 50
        }
      ]
    },
    {
      "cell_type": "code",
      "metadata": {
        "id": "OXuS51pYcWrz"
      },
      "source": [
        " "
      ],
      "execution_count": null,
      "outputs": []
    },
    {
      "cell_type": "markdown",
      "metadata": {
        "id": "tTj-NacVm3t4"
      },
      "source": [
        ""
      ]
    }
  ]
}